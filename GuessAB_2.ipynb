#2.0
def welcome():
    print("***")
    print("***歡迎!")
    inputStringName = input("***請輸入姓名:")
    if inputStringName == '':
        welcome()
    print("***Hi~",inputStringName)
    while True: #直到輸入A or B 才離開迴圈
        inputStringGame = input("***遊戲開始請輸入A / 離開遊戲請輸入B")
        if inputStringGame.upper() == "A":
            print("***")
            print("要猜幾個數字呢? (遊戲難度)")
            num = int(input())
            gameStart(num) #執行Function gameStart
            break
        elif inputStringGame.upper() == "B":
            print("***離開遊戲!")
            print("***")
            break
    
def gameStart(num): #先產生不重複數字，再到checkGuessing讓使用者輸入，回到gameStart判斷是否答對，否則檢查?A?B
    import random
    Ans = random.sample(range(10), num)
    print('***ANS = ',Ans) 
    print("***提醒！ 如果想終止or重新遊戲，請在遊戲中輸入quit即可.")
    print("***提醒！ 如果想更改遊戲難度，請在遊戲中輸入change即可更改難度.")
    print("***GameStart!")
    while True:
        print("***")
        print("***請輸入數字")
        checkNum = checkGuessing(num)
        if Ans == checkNum:
            print("***答對啦!")   
            finishGame(num)
            break
        elif checkNum == "QUIT":
            print("***結束遊戲.")
            finishGame(num)
            break
        elif checkNum == "CHANGE":
            print("***更換難度.")
            num = int(input())
            gameStart(num) #執行Function gameStart
        elif checkNum == "double":
            print("***輕勿輸入重複的數字.")
        elif checkNum == "F":
            print("***請輸入正確格式.")
        else:
            C = compareAB(Ans,checkNum,num) #檢查 ?A?B
            print("***",C[0],'A',C[1],'B')

def checkGuessing(num): #使用者輸入及初步檢查 對guessNumber檢查 存在temp之前要轉int 回傳type是list 
    try:
        guessNumber = str(input())
        temp_list = [] #設置空的list
        if guessNumber.upper() == "QUIT":
            temp_list = "QUIT"
        elif guessNumber.upper() == "CHANGE":
            temp_list = "CHANGE"
        elif (u'\u0041' <= guessNumber<=u'\u005a') or (u'\u0061' <= guessNumber<=u'\u007a') or (u'\u4e00' <= guessNumber<=u'\u9fff'): #字母判斷,英文英文中文
            print("***請輸入數字.")
            temp_list = "F"
        elif len(guessNumber) != num:
            print("***數字要",num,"個.")
            temp_list = "F"
        else:#先將數字丟到list 再去判斷是否有重複的數字
            for i in range(0,num):
                temp_list.append(int(guessNumber[i:i+1]))
            count = (num*-1)
            for i in range(0,num):
                for j in range(0,num):
                    if temp_list[i]==temp_list[j]:
                        count = count+1
            if count>0:
                temp_list = "double"
    except (TypeError,ValueError):
        temp_list = "F"
    return temp_list

def compareAB(x,y,num): #x:Ans y:User num:幾數字 檢查幾Ａ幾Ｂ  備註：此處可參考老師做法，執行速度較快
    A=0
    B=0
    for j in range(0,num):
        if x[j]==y[j]:
            A = A+1
        for k in range(0,num):
            if x[j] == y[k]:
                B = B+1
    B = B-A
    return A,B
    
def finishGame(num):
    inputStringGame = input("再玩一次A / 結束遊戲B")
    if inputStringGame.upper() == "A":
        gameStart(num)
    elif inputStringGame.upper() == "B":
        print("結束遊戲!")
        
welcome()
