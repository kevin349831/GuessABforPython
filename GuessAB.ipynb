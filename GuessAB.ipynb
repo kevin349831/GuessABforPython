def welcome():
    print("***")
    print("***歡迎!")
    inputStringName = input("***請輸入姓名:")
    if inputStringName == '':
        welcome()
    print("***Hi~",inputStringName)
    inputStringGame = input("***遊戲開始請輸入A / 離開遊戲請輸入B")
    if inputStringGame.upper() == "A":
        print("***")
        gameStart() #執行Function gameStart
    elif inputStringGame.upper() == "B":
        print("***離開遊戲!")
        print("***")
    
def gameStart(): #先產生不重複數字，再到checkGuessing讓使用者輸入，回到gameStart判斷是否答對，否則檢查?A?B
    import random
    Ans = random.sample(range(10), 4)
    print('***ANS = ',Ans) 
    print("***提醒！ 如果想終止or重新遊戲，請在遊戲中輸入quit即可.")
    print("***GameStart!")
    while True:
        print("***")
        print("***請輸入數字")
        checkNum = checkGuessing()
        if Ans == checkNum:
            print("***答對啦!")   
            finishGame()
            break
        elif checkNum == "QUIT":
            print("***結束遊戲.")
            finishGame()
            break
        elif checkNum == "double":
            print("***輕勿輸入重複的數字.")
        elif checkNum == "F":
            print("***請輸入正確格式.")
        else:
            C = compareAB(Ans,checkNum) #檢查 ?A?B
            print("***",C[0],'A',C[1],'B')

def checkGuessing(): #使用者輸入及初步檢查 對guessNumber檢查 存在temp之前要轉int 回傳type是list 
    try:
        guessNumber = str(input())
        temp_list = [0,0,0,0]
        if guessNumber.upper() == "QUIT":
            temp_list = "QUIT"
        elif (u'\u0041' <= guessNumber<=u'\u005a') or (u'\u0061' <= guessNumber<=u'\u007a') or (u'\u4e00' <= guessNumber<=u'\u9fff'): #字母判斷,英文英文中文
            print("***請輸入數字.")
            temp_list = "F"
        elif len(guessNumber) != 4:
            print("***數字要4個.")
        else:#先將數字丟到list 再去判斷是否有重複的數字
            for i in range(0,4):
                temp_list[i] = int(guessNumber[i:i+1])
            count = -4
            for i in range(0,4):
                for j in range(0,4):
                    if temp_list[i]==temp_list[j]:
                        count = count+1
            if count>0:
                temp_list = "double"
    except (TypeError,ValueError):
        temp_list = "F"
    return temp_list

def compareAB(x,y): #x:Ans y:User 檢查幾Ａ幾Ｂ
    A=0
    B=0
    for i in range(0,4):
        if x[i]==y[i]:
            A = A+1
    for j in range(0,4):
        for k in range(0,4):
            if x[j] == y[k]:
                B = B+1
    B = B-A
    return A,B
    
def finishGame():
    inputStringGame = input("再玩一次A / 結束遊戲B")
    if inputStringGame.upper() == "A":
        gameStart()
    elif inputStringGame.upper() == "B":
        print("結束遊戲!")
        
welcome()
